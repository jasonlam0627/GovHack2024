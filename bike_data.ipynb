{
 "cells": [
  {
   "cell_type": "markdown",
   "metadata": {},
   "source": [
    "This part is to see the willingness of taking public transport in different situation"
   ]
  },
  {
   "cell_type": "code",
   "execution_count": 2,
   "metadata": {},
   "outputs": [
    {
     "name": "stdout",
     "output_type": "stream",
     "text": [
      "\n",
      "Count of people with carlicence not 'No Car Licence': 57003\n",
      "Percentage: 73.08%\n"
     ]
    }
   ],
   "source": [
    "import urllib.request\n",
    "import json\n",
    "\n",
    "# Base URL to fetch the data\n",
    "base_url = 'https://discover.data.vic.gov.au/api/3/action/datastore_search?resource_id=60ef8b02-237e-4fe2-82d0-91fafa4fd5ea&limit=1000'\n",
    "\n",
    "# Initialize variables for pagination and counting\n",
    "offset = 0\n",
    "total_records = 77428  # Total number of records in the dataset\n",
    "carlicence_non_no_count = 0\n",
    "\n",
    "# Loop to fetch all pages of data\n",
    "while offset < total_records:\n",
    "    # Construct the URL with the current offset\n",
    "    url = f'{base_url}&offset={offset}'\n",
    "    \n",
    "    # Fetch data from the API\n",
    "    try:\n",
    "        fileobj = urllib.request.urlopen(url)\n",
    "        data = fileobj.read().decode()  # Decode the response from bytes to string\n",
    "        json_data = json.loads(data)  # Parse the JSON response\n",
    "        \n",
    "        # Extract records from the response\n",
    "        records = json_data['result']['records']\n",
    "        \n",
    "        # Loop through the records and count those with carlicence not 'No Car Licence'\n",
    "        for record in records:\n",
    "            if 'carlicence' in record and record['carlicence'] != 'No Car Licence':\n",
    "                carlicence_non_no_count += 1\n",
    "        \n",
    "        # Increment the offset to fetch the next page of results\n",
    "        offset += 1000\n",
    "        \n",
    "        # Print status update\n",
    "        # print(f\"Processed {offset} records so far...\")\n",
    "    \n",
    "    except Exception as e:\n",
    "        print(f\"Error fetching data at offset {offset}: {e}\")\n",
    "        break  # Exit the loop if an error occurs\n",
    "\n",
    "# Calculate total people\n",
    "total_people = offset  # Assuming total people processed is equal to the last offset value\n",
    "\n",
    "# Calculate percentage\n",
    "percentage_non_no = (carlicence_non_no_count / total_people) * 100 if total_people > 0 else 0\n",
    "\n",
    "# Print results\n",
    "print(f\"\\nCount of people with carlicence not 'No Car Licence': {carlicence_non_no_count}\")\n",
    "print(f\"Percentage: {percentage_non_no:.2f}%\")"
   ]
  },
  {
   "cell_type": "code",
   "execution_count": 3,
   "metadata": {},
   "outputs": [
    {
     "name": "stdout",
     "output_type": "stream",
     "text": [
      "Percentage of people with a driving license who take public transport: 80.39%\n"
     ]
    }
   ],
   "source": [
    "import urllib.request\n",
    "import json\n",
    "\n",
    "# Base URL to fetch the data\n",
    "base_url = 'https://discover.data.vic.gov.au/api/3/action/datastore_search?resource_id=60ef8b02-237e-4fe2-82d0-91fafa4fd5ea&limit=1000'\n",
    "\n",
    "# Fetch the data\n",
    "response = urllib.request.urlopen(base_url)\n",
    "data = json.loads(response.read())\n",
    "\n",
    "# Check if the request was successful\n",
    "if data['success']:\n",
    "    records = data['result']['records']\n",
    "    \n",
    "    # Initialize counters\n",
    "    total_with_license = 0\n",
    "    public_transport_users = 0\n",
    "    \n",
    "    # Loop through records to count\n",
    "    for person in records:\n",
    "        if person['carlicence'] != 'No Car Licence':\n",
    "            total_with_license += 1\n",
    "            if person['numstops'] > '0':\n",
    "                public_transport_users += 1\n",
    "\n",
    "    # Calculate percentage\n",
    "    if total_with_license > 0:\n",
    "        percentage = (public_transport_users / total_with_license) * 100\n",
    "        print(f\"Percentage of people with a driving license who take public transport: {percentage:.2f}%\")\n",
    "    else:\n",
    "        print(\"No one with a driving license found.\")\n",
    "else:\n",
    "    print(\"Failed to retrieve data.\")"
   ]
  },
  {
   "cell_type": "code",
   "execution_count": 11,
   "metadata": {},
   "outputs": [
    {
     "name": "stdout",
     "output_type": "stream",
     "text": [
      "Percentage of people with a driving license: 71.40%\n"
     ]
    }
   ],
   "source": [
    "import urllib.request\n",
    "import json\n",
    "\n",
    "# Base URL to fetch the data\n",
    "base_url = 'https://discover.data.vic.gov.au/api/3/action/datastore_search?resource_id=60ef8b02-237e-4fe2-82d0-91fafa4fd5ea&limit=1000'\n",
    "\n",
    "# Fetch the data\n",
    "response = urllib.request.urlopen(base_url)\n",
    "data = json.loads(response.read())\n",
    "\n",
    "# Check if the request was successful\n",
    "if data['success']:\n",
    "    records = data['result']['records']\n",
    "    \n",
    "    # Initialize counters\n",
    "    total_people = len(records)\n",
    "    people_with_license = sum(1 for person in records if person['carlicence'] != 'No Car Licence')\n",
    "\n",
    "    # Calculate percentage\n",
    "    if total_people > 0:\n",
    "        percentage_with_license = (people_with_license / total_people) * 100\n",
    "        print(f\"Percentage of people with a driving license: {percentage_with_license:.2f}%\")\n",
    "    else:\n",
    "        print(\"No records found.\")\n",
    "else:\n",
    "    print(\"Failed to retrieve data.\")"
   ]
  },
  {
   "cell_type": "code",
   "execution_count": 13,
   "metadata": {},
   "outputs": [
    {
     "name": "stdout",
     "output_type": "stream",
     "text": [
      "Percentage of people without a driving license and not using public transport: 8.00%\n"
     ]
    }
   ],
   "source": [
    "import urllib.request\n",
    "import json\n",
    "\n",
    "# Base URL to fetch the data\n",
    "base_url = 'https://discover.data.vic.gov.au/api/3/action/datastore_search?resource_id=60ef8b02-237e-4fe2-82d0-91fafa4fd5ea&limit=1000'\n",
    "\n",
    "# Fetch the data\n",
    "response = urllib.request.urlopen(base_url)\n",
    "data = json.loads(response.read())\n",
    "\n",
    "# Check if the request was successful\n",
    "if data['success']:\n",
    "    records = data['result']['records']\n",
    "    \n",
    "    # Initialize counters\n",
    "    total_people = len(records)\n",
    "    no_license_no_transport_count = sum(\n",
    "        1 for person in records\n",
    "        if person['carlicence'] == 'No Car Licence' and person['numstops'] == '0'\n",
    "    )\n",
    "\n",
    "    # Calculate percentage\n",
    "    if total_people > 0:\n",
    "        percentage_no_license_no_transport = (no_license_no_transport_count / total_people) * 100\n",
    "        print(f\"Percentage of people without a driving license and not using public transport: {percentage_no_license_no_transport:.2f}%\")\n",
    "    else:\n",
    "        print(\"No records found.\")\n",
    "else:\n",
    "    print(\"Failed to retrieve data.\")"
   ]
  },
  {
   "cell_type": "code",
   "execution_count": 14,
   "metadata": {},
   "outputs": [
    {
     "name": "stdout",
     "output_type": "stream",
     "text": [
      "Percentage of people without a driving license who take public transport: 20.60%\n"
     ]
    }
   ],
   "source": [
    "import urllib.request\n",
    "import json\n",
    "\n",
    "# Base URL to fetch the data\n",
    "base_url = 'https://discover.data.vic.gov.au/api/3/action/datastore_search?resource_id=60ef8b02-237e-4fe2-82d0-91fafa4fd5ea&limit=1000'\n",
    "\n",
    "# Fetch the data\n",
    "response = urllib.request.urlopen(base_url)\n",
    "data = json.loads(response.read())\n",
    "\n",
    "# Check if the request was successful\n",
    "if data['success']:\n",
    "    records = data['result']['records']\n",
    "    \n",
    "    # Initialize counters\n",
    "    total_people = len(records)\n",
    "    no_license_public_transport_count = sum(\n",
    "        1 for person in records\n",
    "        if person['carlicence'] == 'No Car Licence' and person['numstops'] > '0'\n",
    "    )\n",
    "\n",
    "    # Calculate percentage\n",
    "    if total_people > 0:\n",
    "        percentage_no_license_public_transport = (no_license_public_transport_count / total_people) * 100\n",
    "        print(f\"Percentage of people without a driving license who take public transport: {percentage_no_license_public_transport:.2f}%\")\n",
    "    else:\n",
    "        print(\"No records found.\")\n",
    "else:\n",
    "    print(\"Failed to retrieve data.\")\n",
    "    "
   ]
  },
  {
   "cell_type": "code",
   "execution_count": 15,
   "metadata": {},
   "outputs": [
    {
     "name": "stdout",
     "output_type": "stream",
     "text": [
      "Percentage of bike riders with a driving license: 61.76%\n"
     ]
    }
   ],
   "source": [
    "# Initialize counters\n",
    "total_bike_riders = sum(1 for person in records if person['nocycled'] == 'N')\n",
    "license_bike_riders = sum(1 for person in records if person['nocycled'] == 'N' and person['carlicence'] != 'No Car Licence')\n",
    "\n",
    "# Calculate percentage\n",
    "if total_bike_riders > 0:\n",
    "    percentage_with_license = (license_bike_riders / total_bike_riders) * 100\n",
    "    print(f\"Percentage of bike riders with a driving license: {percentage_with_license:.2f}%\")\n",
    "else:\n",
    "    print(\"No bike riders found.\")"
   ]
  },
  {
   "cell_type": "code",
   "execution_count": 16,
   "metadata": {},
   "outputs": [
    {
     "name": "stdout",
     "output_type": "stream",
     "text": [
      "Percentage of bike riders by age group:\n",
      "18-25: 9.56%\n",
      "26-35: 11.76%\n",
      "36-45: 16.91%\n",
      "46-55: 12.50%\n",
      "56-65: 11.03%\n",
      "66+: 38.24%\n"
     ]
    }
   ],
   "source": [
    "import urllib.request\n",
    "import json\n",
    "from collections import defaultdict\n",
    "\n",
    "# Base URL to fetch the data\n",
    "base_url = 'https://discover.data.vic.gov.au/api/3/action/datastore_search?resource_id=60ef8b02-237e-4fe2-82d0-91fafa4fd5ea&limit=1000'\n",
    "\n",
    "# Fetch the data\n",
    "response = urllib.request.urlopen(base_url)\n",
    "data = json.loads(response.read())\n",
    "\n",
    "# Check if the request was successful\n",
    "if data['success']:\n",
    "    records = data['result']['records']\n",
    "    \n",
    "    # Initialize counters for age groups\n",
    "    age_groups = {\n",
    "        '18-25': 0,\n",
    "        '26-35': 0,\n",
    "        '36-45': 0,\n",
    "        '46-55': 0,\n",
    "        '56-65': 0,\n",
    "        '66+': 0\n",
    "    }\n",
    "    total_bike_riders = 0\n",
    "\n",
    "    # Categorize bike riders into age groups\n",
    "    for person in records:\n",
    "        if person['nocycled'] == 'N':  # Assuming 'N' indicates bike riders\n",
    "            total_bike_riders += 1\n",
    "            age = int(person['age'])\n",
    "            if age >= 18 and age <= 25:\n",
    "                age_groups['18-25'] += 1\n",
    "            elif age >= 26 and age <= 35:\n",
    "                age_groups['26-35'] += 1\n",
    "            elif age >= 36 and age <= 45:\n",
    "                age_groups['36-45'] += 1\n",
    "            elif age >= 46 and age <= 55:\n",
    "                age_groups['46-55'] += 1\n",
    "            elif age >= 56 and age <= 65:\n",
    "                age_groups['56-65'] += 1\n",
    "            else:\n",
    "                age_groups['66+'] += 1\n",
    "\n",
    "    # Calculate and print percentages for each age group\n",
    "    if total_bike_riders > 0:\n",
    "        print(\"Percentage of bike riders by age group:\")\n",
    "        for group, count in age_groups.items():\n",
    "            percentage = (count / total_bike_riders) * 100\n",
    "            print(f\"{group}: {percentage:.2f}%\")\n",
    "    else:\n",
    "        print(\"No bike riders found.\")\n",
    "else:\n",
    "    print(\"Failed to retrieve data.\")"
   ]
  },
  {
   "cell_type": "code",
   "execution_count": 21,
   "metadata": {},
   "outputs": [
    {
     "name": "stdout",
     "output_type": "stream",
     "text": [
      "Percentage of bike riders by gender:\n",
      "Male: 58.82%\n",
      "Female: 41.18%\n",
      "Other: 0.00%\n"
     ]
    }
   ],
   "source": [
    "import urllib.request\n",
    "import json\n",
    "from collections import defaultdict\n",
    "\n",
    "# Base URL to fetch the data\n",
    "base_url = 'https://discover.data.vic.gov.au/api/3/action/datastore_search?resource_id=60ef8b02-237e-4fe2-82d0-91fafa4fd5ea&limit=1000'\n",
    "\n",
    "# Fetch the data\n",
    "response = urllib.request.urlopen(base_url)\n",
    "data = json.loads(response.read())\n",
    "\n",
    "# Check if the request was successful\n",
    "if data['success']:\n",
    "    records = data['result']['records']\n",
    "    \n",
    "    # Initialize counters for gender\n",
    "    gender_counts = {\n",
    "        'Male': 0,\n",
    "        'Female': 0,\n",
    "        'Other': 0\n",
    "    }\n",
    "    total_bike_riders = 0\n",
    "\n",
    "    # Categorize bike riders by gender\n",
    "    for person in records:\n",
    "        if person['nocycled'] == 'N':  # Assuming 'N' indicates bike riders\n",
    "            total_bike_riders += 1\n",
    "            gender = person['sex']  # Replace with actual field name\n",
    "            if gender == 'M':\n",
    "                gender_counts['Male'] += 1\n",
    "            elif gender == 'F':\n",
    "                gender_counts['Female'] += 1\n",
    "            else:\n",
    "                gender_counts['Other'] += 1\n",
    "\n",
    "    # Calculate and print percentages for each gender\n",
    "    if total_bike_riders > 0:\n",
    "        print(\"Percentage of bike riders by gender:\")\n",
    "        for gender, count in gender_counts.items():\n",
    "            percentage = (count / total_bike_riders) * 100\n",
    "            print(f\"{gender}: {percentage:.2f}%\")\n",
    "    else:\n",
    "        print(\"No bike riders found.\")\n",
    "else:\n",
    "    print(\"Failed to retrieve data.\")"
   ]
  },
  {
   "cell_type": "code",
   "execution_count": null,
   "metadata": {},
   "outputs": [],
   "source": []
  },
  {
   "cell_type": "code",
   "execution_count": null,
   "metadata": {},
   "outputs": [],
   "source": []
  },
  {
   "cell_type": "code",
   "execution_count": null,
   "metadata": {},
   "outputs": [],
   "source": []
  },
  {
   "cell_type": "markdown",
   "metadata": {},
   "source": [
    "This part is to compare the people who use public transport in regional and metropolitan area."
   ]
  },
  {
   "cell_type": "code",
   "execution_count": 25,
   "metadata": {},
   "outputs": [
    {
     "name": "stdout",
     "output_type": "stream",
     "text": [
      "Average Annual Pax: 185042.55\n"
     ]
    }
   ],
   "source": [
    "import urllib.request\n",
    "import json\n",
    "\n",
    "# Fetch the data\n",
    "url = 'https://discover.data.vic.gov.au/api/3/action/datastore_search?resource_id=23714095-c6a1-4312-bb99-d92340d34d31&limit=100'\n",
    "fileobj = urllib.request.urlopen(url)\n",
    "data = json.loads(fileobj.read())\n",
    "\n",
    "# Initialize variables\n",
    "total_pax = 0\n",
    "count = 0\n",
    "\n",
    "# Extract and sum annual Pax\n",
    "if data['success'] and data['result']['records']:\n",
    "    for record in data['result']['records']:\n",
    "        try:\n",
    "            pax = float(record['Pax_annual'])  # Convert to float\n",
    "            total_pax += pax\n",
    "            count += 1\n",
    "        except (ValueError, TypeError):\n",
    "            continue  # Skip if conversion fails\n",
    "\n",
    "# Calculate average\n",
    "if count > 0:\n",
    "    average_pax = total_pax / count\n",
    "    print(f\"Average Annual Pax: {average_pax:.2f}\")\n",
    "else:\n",
    "    print(\"No valid records found.\")"
   ]
  },
  {
   "cell_type": "code",
   "execution_count": 24,
   "metadata": {},
   "outputs": [
    {
     "name": "stdout",
     "output_type": "stream",
     "text": [
      "Average Annual Pax: 500588.00\n"
     ]
    }
   ],
   "source": [
    "import urllib.request\n",
    "import json\n",
    "\n",
    "# Fetch the data without filtering by title\n",
    "url = 'https://discover.data.vic.gov.au/api/3/action/datastore_search?resource_id=d92a2616-9b6b-42ca-960a-b225d82541ac&limit=100'  # Adjust limit as needed\n",
    "fileobj = urllib.request.urlopen(url)\n",
    "data = json.loads(fileobj.read())\n",
    "\n",
    "# Initialize variables\n",
    "total_pax = 0\n",
    "count = 0\n",
    "\n",
    "# Extract and sum annual Pax\n",
    "if data['success'] and data['result']['records']:\n",
    "    for record in data['result']['records']:\n",
    "        try:\n",
    "            pax = float(record['Pax_annual'])  # Convert to float\n",
    "            total_pax += pax\n",
    "            count += 1\n",
    "        except (ValueError, TypeError):\n",
    "            continue  # Skip if conversion fails\n",
    "\n",
    "# Calculate average\n",
    "if count > 0:\n",
    "    average_pax = total_pax / count\n",
    "    print(f\"Average Annual Pax: {average_pax:.2f}\")\n",
    "else:\n",
    "    print(\"No valid records found.\")"
   ]
  },
  {
   "cell_type": "code",
   "execution_count": 29,
   "metadata": {},
   "outputs": [
    {
     "name": "stdout",
     "output_type": "stream",
     "text": [
      "First Dataset - Total Annual Pax: 17394000.0, Count: 94\n",
      "Second Dataset - Total Annual Pax: 50058800.0, Count: 100\n"
     ]
    }
   ],
   "source": [
    "import urllib.request\n",
    "import json\n",
    "\n",
    "def fetch_data(url):\n",
    "    fileobj = urllib.request.urlopen(url)\n",
    "    return json.loads(fileobj.read())\n",
    "\n",
    "# URLs for both datasets\n",
    "url1 = 'https://discover.data.vic.gov.au/api/3/action/datastore_search?resource_id=23714095-c6a1-4312-bb99-d92340d34d31&limit=100'\n",
    "url2 = 'https://discover.data.vic.gov.au/api/3/action/datastore_search?resource_id=d92a2616-9b6b-42ca-960a-b225d82541ac&limit=100'\n",
    "\n",
    "# Fetch data\n",
    "data1 = fetch_data(url1)\n",
    "data2 = fetch_data(url2)\n",
    "\n",
    "# Initialize totals\n",
    "total_pax1 = 0\n",
    "total_pax2 = 0\n",
    "count1 = 0\n",
    "count2 = 0\n",
    "\n",
    "# Analyze first dataset\n",
    "if data1['success'] and data1['result']['records']:\n",
    "    for record in data1['result']['records']:\n",
    "        try:\n",
    "            pax = float(record['Pax_annual'])\n",
    "            total_pax1 += pax\n",
    "            count1 += 1\n",
    "        except (ValueError, TypeError):\n",
    "            continue\n",
    "\n",
    "# Analyze second dataset\n",
    "if data2['success'] and data2['result']['records']:\n",
    "    for record in data2['result']['records']:\n",
    "        try:\n",
    "            pax = float(record['Pax_annual'])\n",
    "            total_pax2 += pax\n",
    "            count2 += 1\n",
    "        except (ValueError, TypeError):\n",
    "            continue\n",
    "\n",
    "# Print results\n",
    "print(f\"First Dataset - Total Annual Pax: {total_pax1}, Count: {count1}\")\n",
    "print(f\"Second Dataset - Total Annual Pax: {total_pax2}, Count: {count2}\")"
   ]
  },
  {
   "cell_type": "code",
   "execution_count": null,
   "metadata": {},
   "outputs": [],
   "source": []
  }
 ],
 "metadata": {
  "kernelspec": {
   "display_name": "Python 3 (ipykernel)",
   "language": "python",
   "name": "python3"
  },
  "language_info": {
   "codemirror_mode": {
    "name": "ipython",
    "version": 3
   },
   "file_extension": ".py",
   "mimetype": "text/x-python",
   "name": "python",
   "nbconvert_exporter": "python",
   "pygments_lexer": "ipython3",
   "version": "3.12.4"
  }
 },
 "nbformat": 4,
 "nbformat_minor": 4
}
